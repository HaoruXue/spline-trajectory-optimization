{
 "cells": [
  {
   "cell_type": "code",
   "execution_count": 1,
   "metadata": {},
   "outputs": [
    {
     "name": "stderr",
     "output_type": "stream",
     "text": [
      "\u001b[32m\u001b[1m  Activating\u001b[22m\u001b[39m project at `~/art/spline-trajectory-optimization/julia`\n"
     ]
    }
   ],
   "source": [
    "import Pkg; \n",
    "Pkg.activate(@__DIR__); \n",
    "Pkg.instantiate()"
   ]
  },
  {
   "cell_type": "code",
   "execution_count": 2,
   "metadata": {},
   "outputs": [
    {
     "data": {
      "text/plain": [
       "load_raw_trajectory (generic function with 1 method)"
      ]
     },
     "metadata": {},
     "output_type": "display_data"
    }
   ],
   "source": [
    "include(\"utils/SplineTrajectory.jl\")\n",
    "include(\"utils/DiscreteTrajectory.jl\")\n",
    "include(\"utils/IO.jl\")"
   ]
  },
  {
   "cell_type": "code",
   "execution_count": 3,
   "metadata": {},
   "outputs": [
    {
     "data": {
      "image/png": "",
      "text/plain": []
     },
     "metadata": {},
     "output_type": "display_data"
    }
   ],
   "source": [
    "import ForwardDiff as FD\n",
    "import BSplineKit as BK\n",
    "import PyPlot as plt\n",
    "plt.pygui(true)\n",
    "using Test\n",
    "using DelimitedFiles\n",
    "using OSQP\n",
    "using SparseArrays\n",
    "using Statistics\n",
    "Drawing()"
   ]
  },
  {
   "cell_type": "code",
   "execution_count": 6,
   "metadata": {},
   "outputs": [],
   "source": [
    "interval = 3.0 # m\n",
    "\n",
    "# x, y, z = load_raw_trajectory(\"examples/race_track/putnam/PUTNAM_A_CENTER_enu.csv\")\n",
    "# traj_s = SplineTrajectory(x, y, 3)\n",
    "\n",
    "# x, y, z = load_raw_trajectory(\"examples/race_track/putnam/PUTNAM_BOUND_A_LEFT_enu.csv\")\n",
    "# left_s = SplineTrajectory(x, y, 3)\n",
    "\n",
    "# x, y, z = load_raw_trajectory(\"examples/race_track/putnam/PUTNAM_BOUND_A_RIGHT_enu.csv\")\n",
    "# right_s = SplineTrajectory(x, y, 3)\n",
    "\n",
    "x, y, z = load_raw_trajectory(\"examples/race_track/monza/MONZA_UNOPTIMIZED_LINE_enu.csv\")\n",
    "traj_s = SplineTrajectory(x, y, 3)\n",
    "\n",
    "x, y, z = load_raw_trajectory(\"examples/race_track/monza/MONZA_LEFT_BOUNDARY_enu.csv\")\n",
    "left_s = SplineTrajectory(x, y, 3)\n",
    "\n",
    "x, y, z = load_raw_trajectory(\"examples/race_track/monza/MONZA_RIGHT_BOUNDARY_enu.csv\")\n",
    "right_s = SplineTrajectory(x, y, 3)\n",
    "\n",
    "traj_d, ts= discretize_trajectory(traj_s, interval, false)\n",
    "left_d, _ = discretize_trajectory(left_s, 0.5)\n",
    "right_d, _ = discretize_trajectory(right_s, 0.5)\n",
    "\n",
    "set_trajectory_bounds(traj_d, left_d, right_d)\n",
    "\n",
    "# calculate distance to left and right boundary\n",
    "traj_tum = zeros(size(traj_d.data, 1), 4)\n",
    "traj_tum[:, 1:2] = traj_d.data[:, 1:2]\n",
    "left_diff = traj_d.data[:, TRAJ_LEFT_BOUND_X:TRAJ_LEFT_BOUND_Y] .- traj_d.data[:, TRAJ_X:TRAJ_Y]\n",
    "right_diff = traj_d.data[:, TRAJ_RIGHT_BOUND_X:TRAJ_RIGHT_BOUND_Y] .- traj_d.data[:, TRAJ_X:TRAJ_Y]\n",
    "traj_tum[:, 3] = vec(sqrt.(right_diff[:, 1].^2 .+ right_diff[:, 2].^2))\n",
    "traj_tum[:, 4] = vec(sqrt.(left_diff[:, 1].^2 .+ left_diff[:, 2].^2))\n",
    "\n",
    "# save trajectory to csv\n",
    "writedlm(\"experiment_data/traj_tum.csv\", traj_tum, ',')\n"
   ]
  }
 ],
 "metadata": {
  "kernelspec": {
   "display_name": "Julia 1.9.3",
   "language": "julia",
   "name": "julia-1.9"
  },
  "language_info": {
   "file_extension": ".jl",
   "mimetype": "application/julia",
   "name": "julia",
   "version": "1.9.3"
  },
  "orig_nbformat": 4
 },
 "nbformat": 4,
 "nbformat_minor": 2
}
