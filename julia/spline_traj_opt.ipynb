{
 "cells": [
  {
   "cell_type": "code",
   "execution_count": 1,
   "metadata": {},
   "outputs": [
    {
     "name": "stderr",
     "output_type": "stream",
     "text": [
      "\u001b[32m\u001b[1m  Activating\u001b[22m\u001b[39m project at `~/research/spline/spline-trajectory-optimization/julia`\n"
     ]
    }
   ],
   "source": [
    "import Pkg; \n",
    "Pkg.activate(@__DIR__); \n",
    "Pkg.instantiate()"
   ]
  },
  {
   "cell_type": "code",
   "execution_count": 62,
   "metadata": {},
   "outputs": [
    {
     "data": {
      "text/plain": [
       "load_raw_trajectory (generic function with 1 method)"
      ]
     },
     "metadata": {},
     "output_type": "display_data"
    }
   ],
   "source": [
    "include(\"utils/SplineTrajectory.jl\")\n",
    "include(\"utils/DiscreteTrajectory.jl\")\n",
    "include(\"utils/IO.jl\")"
   ]
  },
  {
   "cell_type": "code",
   "execution_count": 77,
   "metadata": {},
   "outputs": [],
   "source": [
    "import ForwardDiff as FD\n",
    "import BSplineKit as BK\n",
    "import PyPlot as plt\n",
    "import Convex as cvx \n",
    "plt.pygui(true)\n",
    "using Test\n",
    "using DelimitedFiles"
   ]
  },
  {
   "cell_type": "code",
   "execution_count": 4,
   "metadata": {},
   "outputs": [
    {
     "data": {
      "text/plain": [
       "eval_coeffs (generic function with 2 methods)"
      ]
     },
     "metadata": {},
     "output_type": "display_data"
    }
   ],
   "source": [
    "function eval_coeffs(\n",
    "    basis::BK.PeriodicBSplineBasis,\n",
    "    coeffs::AbstractVector{T},\n",
    "    ts::AbstractVector{Float64},\n",
    "    op = BK.Derivative(0)) where {T}\n",
    "    N = length(ts)\n",
    "    x = zeros(T, N)\n",
    "    k = typeof(basis).parameters[1]\n",
    "    for i=1:N\n",
    "        ti = ts[i]\n",
    "        idx, bs = basis(ti, op)\n",
    "        for j=1:k\n",
    "            x[i] += bs[j] * coeffs[idx-j+1]\n",
    "        end\n",
    "    end\n",
    "    return x\n",
    "end\n",
    "    "
   ]
  },
  {
   "cell_type": "code",
   "execution_count": 17,
   "metadata": {},
   "outputs": [
    {
     "name": "stdout",
     "output_type": "stream",
     "text": [
      "\u001b[0m\u001b[1mTest Summary:        | \u001b[22m\u001b[32m\u001b[1mPass  \u001b[22m\u001b[39m\u001b[36m\u001b[1mTotal  \u001b[22m\u001b[39m\u001b[0m\u001b[1mTime\u001b[22m\n",
      "Curve reconstruction | \u001b[32m   3  \u001b[39m\u001b[36m    3  \u001b[39m\u001b[0m1.2s\n"
     ]
    },
    {
     "data": {
      "text/plain": [
       "Test.DefaultTestSet(\"Curve reconstruction\", Any[], 3, false, false, true, 1.682921389109408e9, 1.682921390261639e9)"
      ]
     },
     "metadata": {},
     "output_type": "display_data"
    }
   ],
   "source": [
    "@testset \"Curve reconstruction\" begin\n",
    "# Let's verify that the control points have a linear effect on the final curve shape\n",
    "# i.e. we can reconstruct the curve by multiplying the jacobians with the coefficients\n",
    "\n",
    "x, y, z = load_raw_trajectory(\"examples/race_track/monza/MONZA_UNOPTIMIZED_LINE_enu.csv\")\n",
    "traj = SplineTrajectory(x, y, 5)\n",
    "ts = [range(0.0, step = 0.01, stop = 0.99);]\n",
    "coeffs_x = copy(traj.spl_x.coefs)\n",
    "coeffs_y = copy(traj.spl_y.coefs)\n",
    "basis = traj.spl_x.basis\n",
    "dx = FD.jacobian(coef->eval_coeffs(basis, coef, ts), coeffs_x)\n",
    "dy = FD.jacobian(coef->eval_coeffs(basis, coef, ts), coeffs_y)\n",
    "\n",
    "x_recon = dx * coeffs_x.data\n",
    "y_recon = dy * coeffs_y.data\n",
    "\n",
    "x_intp, y_intp = traj_ev(traj, ts)\n",
    "\n",
    "@test dx == dy\n",
    "@test norm(x_recon-x_intp) < 1e-9\n",
    "@test norm(y_recon-y_intp) < 1e-9\n",
    "\n",
    "end"
   ]
  },
  {
   "attachments": {},
   "cell_type": "markdown",
   "metadata": {},
   "source": [
    "Now let's define the minimum-curvature cost function."
   ]
  },
  {
   "cell_type": "code",
   "execution_count": 20,
   "metadata": {},
   "outputs": [
    {
     "data": {
      "text/plain": [
       "min_curvature_cost (generic function with 1 method)"
      ]
     },
     "metadata": {},
     "output_type": "display_data"
    }
   ],
   "source": [
    "function min_curvature_cost(\n",
    "    Z::AbstractVector{T},\n",
    "    traj_s::SplineTrajectory,\n",
    "    ts::AbstractVector{Float64}) where {T}\n",
    "\n",
    "    N = length(ts)\n",
    "\n",
    "    dTx, dTy = traj_ev(traj_s, ts, BK.Derivative(1))\n",
    "    d2Tx, d2Ty = traj_ev(traj_s, ts, BK.Derivative(2))\n",
    "\n",
    "    v = ones(eltype(Z), N)\n",
    "    denom = (dTx .^ 2 + dTy .^ 2) .^ 3\n",
    "    Pxx = (dTy .^ 2 .* v) ./ denom\n",
    "    Pxy = (-2.0 .* dTx .* dTy .* v) ./ denom\n",
    "    Pyy = (dTx .^ 2 .* v) ./ denom\n",
    "\n",
    "    Pxx = diagm(Pxx)\n",
    "    Pxy = diagm(Pxy)\n",
    "    Pyy = diagm(Pyy)\n",
    "\n",
    "    B = FD.jacobian(coef->eval_coeffs(traj_s.spl_x.basis, coef, ts), traj_s.spl_x.coefs)\n",
    "    Bx = hcat(B, zeros(eltype(B), N, length(Z) ÷ 2))\n",
    "    By = hcat(zeros(eltype(B), N, length(Z) ÷ 2), B)\n",
    "\n",
    "    2.0 .* (Bx' * Pxx * Bx + By' * Pxy * Bx + By' * Pyy * By)\n",
    "end"
   ]
  },
  {
   "cell_type": "code",
   "execution_count": 68,
   "metadata": {},
   "outputs": [
    {
     "data": {
      "text/plain": [
       "track_boundary_constraint (generic function with 1 method)"
      ]
     },
     "metadata": {},
     "output_type": "display_data"
    }
   ],
   "source": [
    "function track_boundary_constraint(Z::AbstractVector{T}, traj_s::SplineTrajectory, traj_d::DiscreteTrajectory, ts::Vector{Float64}) where {T}\n",
    "    M = size(traj_d.data, 1)\n",
    "    N = length(Z) ÷ 2\n",
    "    left_x = traj_d.data[:, TRAJ_LEFT_BOUND_X]\n",
    "    left_y = traj_d.data[:, TRAJ_LEFT_BOUND_Y]\n",
    "    right_x = traj_d.data[:, TRAJ_RIGHT_BOUND_X]\n",
    "    right_y = traj_d.data[:, TRAJ_RIGHT_BOUND_Y]\n",
    "    min_bound = zeros(eltype(traj_d.data), 2 * M)\n",
    "    min_bound[begin:M] = min.(left_x, right_x)\n",
    "    min_bound[M+1:end] = min.(left_y, right_y)\n",
    "    max_bound = zeros(eltype(traj_d.data), 2 * M)\n",
    "    max_bound[begin:M] = max.(left_x, right_x)\n",
    "    max_bound[M+1:end] = max.(left_y, right_y)\n",
    "    \n",
    "    A = zeros(eltype(traj_d.data), 2 * M, 2 * N)\n",
    "    B = FD.jacobian(coef->eval_coeffs(traj_s.spl_x.basis, coef, ts), traj_s.spl_x.coefs)\n",
    "    A[begin:M, begin:N] = B\n",
    "    A[M+1:end, N+1:end] = B\n",
    "\n",
    "    return A, min_bound, max_bound\n",
    "end"
   ]
  },
  {
   "cell_type": "code",
   "execution_count": 76,
   "metadata": {},
   "outputs": [
    {
     "name": "stdout",
     "output_type": "stream",
     "text": [
      "\u001b[0m\u001b[1mTest Summary:        |\u001b[22m\u001b[0m\u001b[1m Time\u001b[22m\n",
      "Minimum Curvature QP | \u001b[36mNone  \u001b[39m\u001b[0m46.7s\n"
     ]
    },
    {
     "data": {
      "text/plain": [
       "Test.DefaultTestSet(\"Minimum Curvature QP\", Any[], 0, false, false, true, 1.682926619906628e9, 1.682926666613446e9)"
      ]
     },
     "metadata": {},
     "output_type": "display_data"
    }
   ],
   "source": [
    "@testset \"Minimum Curvature QP\" begin\n",
    "    interval = 3.0 # discretization interval\n",
    "    \n",
    "    x, y, z = load_raw_trajectory(\"examples/race_track/monza/MONZA_UNOPTIMIZED_LINE_enu.csv\")\n",
    "    traj_s = SplineTrajectory(x, y, 5)\n",
    "\n",
    "    x, y, z = load_raw_trajectory(\"examples/race_track/monza/MONZA_LEFT_BOUNDARY_enu.csv\")\n",
    "    left_s = SplineTrajectory(x, y, 5)\n",
    "\n",
    "    x, y, z = load_raw_trajectory(\"examples/race_track/monza/MONZA_RIGHT_BOUNDARY_enu.csv\")\n",
    "    right_s = SplineTrajectory(x, y, 5)\n",
    "    \n",
    "    traj_d = discretize_trajectory(traj_s, interval)\n",
    "    left_d = discretize_trajectory(left_s, interval)\n",
    "    right_d = discretize_trajectory(right_s, interval)\n",
    "\n",
    "    set_trajectory_bounds(traj_d, left_d, right_d)\n",
    "\n",
    "    M = size(traj_d.data, 1)\n",
    "    ts = [range(0.0, length = M+1, stop = 1.0);]\n",
    "    ts = ts[begin:end-1]\n",
    "\n",
    "    coeffs_x = traj_s.spl_x.coefs\n",
    "    coeffs_y = traj_s.spl_y.coefs\n",
    "\n",
    "    N = length(coeffs_x)\n",
    "    Z = zeros(eltype(coeffs_x), N * 2)\n",
    "    Z[begin:N] .= coeffs_x\n",
    "    Z[N+1:end] .= coeffs_y\n",
    "\n",
    "    H = min_curvature_cost(Z, traj_s, ts)\n",
    "    A, min_bound, max_bound = track_boundary_constraint(Z, traj_s, traj_d, ts)\n",
    "\n",
    "    var_Z = cvx.Variable(nx, N)\n",
    "\n",
    "    # plt.plot(traj_d.data[:, TRAJ_X], traj_d.data[:, TRAJ_Y])\n",
    "    # plt.plot(traj_d.data[:, TRAJ_LEFT_BOUND_X], traj_d.data[:, TRAJ_LEFT_BOUND_Y])\n",
    "    # plt.plot(traj_d.data[:, TRAJ_RIGHT_BOUND_X], traj_d.data[:, TRAJ_RIGHT_BOUND_Y])\n",
    "\n",
    "    # M = size(traj_d.data, 1)\n",
    "    # plt.plot(min_bound[1:M], min_bound[M+1:end], \"-o\")\n",
    "    # plt.plot(max_bound[1:M], max_bound[M+1:end], \"-o\")\n",
    "    # plt.gca().set_aspect(\"equal\")\n",
    "    # plt.show()\n",
    "    \n",
    "end"
   ]
  }
 ],
 "metadata": {
  "kernelspec": {
   "display_name": "Julia 1.8.5",
   "language": "julia",
   "name": "julia-1.8"
  },
  "language_info": {
   "file_extension": ".jl",
   "mimetype": "application/julia",
   "name": "julia",
   "version": "1.8.5"
  },
  "orig_nbformat": 4
 },
 "nbformat": 4,
 "nbformat_minor": 2
}
