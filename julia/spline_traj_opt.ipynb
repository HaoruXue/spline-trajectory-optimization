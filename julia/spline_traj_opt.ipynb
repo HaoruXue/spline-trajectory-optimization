{
 "cells": [
  {
   "cell_type": "code",
   "execution_count": 1,
   "metadata": {},
   "outputs": [
    {
     "name": "stderr",
     "output_type": "stream",
     "text": [
      "\u001b[32m\u001b[1m  Activating\u001b[22m\u001b[39m project at `~/research/spline/spline-trajectory-optimization/julia`\n"
     ]
    }
   ],
   "source": [
    "import Pkg; \n",
    "Pkg.activate(@__DIR__); \n",
    "Pkg.instantiate()"
   ]
  },
  {
   "cell_type": "code",
   "execution_count": 9,
   "metadata": {},
   "outputs": [
    {
     "data": {
      "text/plain": [
       "load_raw_trajectory (generic function with 1 method)"
      ]
     },
     "metadata": {},
     "output_type": "display_data"
    }
   ],
   "source": [
    "include(\"utils/SplineTrajectory.jl\")\n",
    "include(\"utils/DiscreteTrajectory.jl\")\n",
    "include(\"utils/IO.jl\")"
   ]
  },
  {
   "cell_type": "code",
   "execution_count": 3,
   "metadata": {},
   "outputs": [
    {
     "data": {
      "image/png": "",
      "text/plain": []
     },
     "metadata": {},
     "output_type": "display_data"
    }
   ],
   "source": [
    "import ForwardDiff as FD\n",
    "import BSplineKit as BK\n",
    "import PyPlot as plt\n",
    "plt.pygui(true)\n",
    "using Test\n",
    "using DelimitedFiles\n",
    "using OSQP\n",
    "using SparseArrays\n",
    "Drawing()"
   ]
  },
  {
   "cell_type": "code",
   "execution_count": 4,
   "metadata": {},
   "outputs": [
    {
     "data": {
      "text/plain": [
       "eval_coeffs (generic function with 2 methods)"
      ]
     },
     "metadata": {},
     "output_type": "display_data"
    }
   ],
   "source": [
    "function eval_coeffs(\n",
    "    basis::BK.PeriodicBSplineBasis,\n",
    "    coeffs::AbstractVector{T},\n",
    "    ts::AbstractVector{Float64},\n",
    "    op = BK.Derivative(0)) where {T}\n",
    "    N = length(ts)\n",
    "    x = zeros(T, N)\n",
    "    k = typeof(basis).parameters[1]\n",
    "    for i=1:N\n",
    "        ti = ts[i]\n",
    "        idx, bs = basis(ti, op)\n",
    "        for j=1:k\n",
    "            x[i] += bs[j] * coeffs[idx-j+1]\n",
    "        end\n",
    "    end\n",
    "    return x\n",
    "end\n",
    "    "
   ]
  },
  {
   "cell_type": "code",
   "execution_count": 5,
   "metadata": {},
   "outputs": [
    {
     "name": "stdout",
     "output_type": "stream",
     "text": [
      "\u001b[0m\u001b[1mTest Summary:        | \u001b[22m\u001b[32m\u001b[1mPass  \u001b[22m\u001b[39m\u001b[36m\u001b[1mTotal  \u001b[22m\u001b[39m\u001b[0m\u001b[1m Time\u001b[22m\n",
      "Curve reconstruction | \u001b[32m   3  \u001b[39m\u001b[36m    3  \u001b[39m\u001b[0m10.5s\n"
     ]
    },
    {
     "data": {
      "text/plain": [
       "Test.DefaultTestSet(\"Curve reconstruction\", Any[], 3, false, false, true, 1.683532870991483e9, 1.683532881530696e9)"
      ]
     },
     "metadata": {},
     "output_type": "display_data"
    }
   ],
   "source": [
    "@testset \"Curve reconstruction\" begin\n",
    "# Let's verify that the control points have a linear effect on the final curve shape\n",
    "# i.e. we can reconstruct the curve by multiplying the jacobians with the coefficients\n",
    "\n",
    "x, y, z = load_raw_trajectory(\"examples/race_track/monza/MONZA_UNOPTIMIZED_LINE_enu.csv\")\n",
    "traj = SplineTrajectory(x, y, 5)\n",
    "ts = [range(0.0, step = 0.01, stop = 0.99);]\n",
    "coeffs_x = copy(traj.spl_x.coefs)\n",
    "coeffs_y = copy(traj.spl_y.coefs)\n",
    "basis = traj.spl_x.basis\n",
    "dx = FD.jacobian(coef->eval_coeffs(basis, coef, ts), coeffs_x)\n",
    "dy = FD.jacobian(coef->eval_coeffs(basis, coef, ts), coeffs_y)\n",
    "\n",
    "x_recon = dx * coeffs_x.data\n",
    "y_recon = dy * coeffs_y.data\n",
    "\n",
    "x_intp, y_intp = traj_ev(traj, ts)\n",
    "\n",
    "@test dx == dy\n",
    "@test norm(x_recon-x_intp) < 1e-9\n",
    "@test norm(y_recon-y_intp) < 1e-9\n",
    "\n",
    "end"
   ]
  },
  {
   "attachments": {},
   "cell_type": "markdown",
   "metadata": {},
   "source": [
    "Now let's define the minimum-curvature cost function."
   ]
  },
  {
   "cell_type": "code",
   "execution_count": 6,
   "metadata": {},
   "outputs": [
    {
     "data": {
      "text/plain": [
       "min_curvature_cost (generic function with 1 method)"
      ]
     },
     "metadata": {},
     "output_type": "display_data"
    }
   ],
   "source": [
    "function min_curvature_cost(\n",
    "    Z::AbstractVector{T},\n",
    "    traj_s::SplineTrajectory,\n",
    "    ts::AbstractVector{Float64}) where {T}\n",
    "\n",
    "    N = length(ts)\n",
    "\n",
    "    dTx, dTy = traj_ev(traj_s, ts, BK.Derivative(1))\n",
    "    d2Tx, d2Ty = traj_ev(traj_s, ts, BK.Derivative(2))\n",
    "\n",
    "    v = ones(eltype(Z), N)\n",
    "    denom = (dTx .^ 2 + dTy .^ 2) .^ 3\n",
    "    Pxx = (dTy .^ 2 .* v) ./ denom\n",
    "    Pxy = (-2.0 .* dTx .* dTy .* v) ./ denom\n",
    "    Pyy = (dTx .^ 2 .* v) ./ denom\n",
    "\n",
    "    Pxx = diagm(Pxx)\n",
    "    Pxy = diagm(Pxy)\n",
    "    Pyy = diagm(Pyy)\n",
    "\n",
    "    B = FD.jacobian(coef->eval_coeffs(traj_s.spl_x.basis, coef, ts), traj_s.spl_x.coefs)\n",
    "    Bx = hcat(B, zeros(eltype(B), N, length(Z) ÷ 2))\n",
    "    By = hcat(zeros(eltype(B), N, length(Z) ÷ 2), B)\n",
    "\n",
    "    2.0 .* (Bx' * Pxx * Bx + By' * Pxy * Bx + By' * Pyy * By)\n",
    "end"
   ]
  },
  {
   "attachments": {},
   "cell_type": "markdown",
   "metadata": {},
   "source": [
    "We encode the track boundary constraints in frenet frame. For each point $p(x,y)$ and its original position $p_0(x,y)$ and heading $\\theta$,\n",
    "\n",
    "$$\n",
    "\\begin{align}\n",
    "& s_{\\text{right}} \\le R(p-p_0) \\le s_{\\text{left}} \\\\\n",
    "\\text{where} \\quad & R = -x\\sin\\theta-y\\cos\\theta\n",
    "\\end{align}\n",
    "$$\n",
    "\n",
    "R finds the lateral coordinate of the point in frenet frame, with left being positive.\n",
    "\n",
    "The equation is rearranged to form a standard QP constraint\n",
    "\n",
    "$$\n",
    "\\begin{align}\n",
    "& a_{\\text{lb}} \\le AZ \\le a_{\\text{ub}}\n",
    "\\end{align}\n",
    "$$"
   ]
  },
  {
   "cell_type": "code",
   "execution_count": 7,
   "metadata": {},
   "outputs": [
    {
     "data": {
      "text/plain": [
       "track_boundary_constraint (generic function with 1 method)"
      ]
     },
     "metadata": {},
     "output_type": "display_data"
    }
   ],
   "source": [
    "function track_boundary_constraint(Z::AbstractVector{T}, traj_s::SplineTrajectory, traj_d::DiscreteTrajectory, ts::Vector{Float64}) where {T}\n",
    "    M = size(traj_d.data, 1)\n",
    "    N = length(Z) ÷ 2\n",
    "    # left_x = traj_d.data[:, TRAJ_LEFT_BOUND_X]\n",
    "    # left_y = traj_d.data[:, TRAJ_LEFT_BOUND_Y]\n",
    "    # right_x = traj_d.data[:, TRAJ_RIGHT_BOUND_X]\n",
    "    # right_y = traj_d.data[:, TRAJ_RIGHT_BOUND_Y]\n",
    "    # min_bound = zeros(eltype(traj_d.data), 2 * M)\n",
    "    # min_bound[begin:M] = min.(left_x, right_x)\n",
    "    # min_bound[M+1:end] = min.(left_y, right_y)\n",
    "    # max_bound = zeros(eltype(traj_d.data), 2 * M)\n",
    "    # max_bound[begin:M] = max.(left_x, right_x)\n",
    "    # max_bound[M+1:end] = max.(left_y, right_y)\n",
    "    \n",
    "    A2 = zeros(eltype(traj_d.data), 2 * M, 2 * N)\n",
    "    B = FD.jacobian(coef->eval_coeffs(traj_s.spl_x.basis, coef, ts), traj_s.spl_x.coefs)\n",
    "    A2[begin:M, begin:N] = B\n",
    "    A2[M+1:end, N+1:end] = B\n",
    "\n",
    "    cosθ = cos.(traj_d.data[:, TRAJ_YAW])\n",
    "    sinθ = sin.(traj_d.data[:, TRAJ_YAW])\n",
    "    A11 = hcat(diagm(sinθ), diagm(cosθ))\n",
    "    A12 = hcat(diagm(cosθ), diagm(sinθ) .* -1.0)\n",
    "    A1 = vcat(A11, A12)\n",
    "    A = A1 * A2\n",
    "    b = -1.0 * A * Z\n",
    "\n",
    "    Δr = traj_d.data[:, TRAJ_RIGHT_BOUND_X:TRAJ_RIGHT_BOUND_Y] - traj_d.data[:, TRAJ_X:TRAJ_Y]\n",
    "    Δl = traj_d.data[:, TRAJ_LEFT_BOUND_X:TRAJ_LEFT_BOUND_Y] - traj_d.data[:, TRAJ_X:TRAJ_Y]\n",
    "    min_bound = -1.0 .* norm.(eachrow(Δr))\n",
    "    min_bound = vcat(min_bound, ones(eltype(min_bound), M) .* -1.0) - b\n",
    "    max_bound = norm.(eachrow(Δl))\n",
    "    max_bound = vcat(max_bound, ones(eltype(max_bound), M)) - b\n",
    "\n",
    "    return A, min_bound, max_bound, B\n",
    "end"
   ]
  },
  {
   "cell_type": "code",
   "execution_count": 10,
   "metadata": {},
   "outputs": [
    {
     "name": "stdout",
     "output_type": "stream",
     "text": [
      "norm(results.x .- Z_optm) = 55.42308304731317\n",
      "norm(results.x .- Z_optm) = "
     ]
    },
    {
     "name": "stdout",
     "output_type": "stream",
     "text": [
      "9.962748696406155\n"
     ]
    },
    {
     "name": "stdout",
     "output_type": "stream",
     "text": [
      "norm(results.x .- Z_optm) = 8.842698883813629\n",
      "norm(results.x .- Z_optm) = "
     ]
    },
    {
     "name": "stdout",
     "output_type": "stream",
     "text": [
      "12.270586606184638\n"
     ]
    },
    {
     "name": "stdout",
     "output_type": "stream",
     "text": [
      "norm(results.x .- Z_optm) = 10.890166798680676\n",
      "norm(results.x .- Z_optm) = "
     ]
    },
    {
     "name": "stdout",
     "output_type": "stream",
     "text": [
      "11.898326419951303\n"
     ]
    },
    {
     "name": "stdout",
     "output_type": "stream",
     "text": [
      "norm(results.x .- Z_optm) = 11.856537263644473\n",
      "norm(results.x .- Z_optm) = "
     ]
    },
    {
     "name": "stdout",
     "output_type": "stream",
     "text": [
      "9.033014957939523\n"
     ]
    },
    {
     "name": "stdout",
     "output_type": "stream",
     "text": [
      "norm(results.x .- Z_optm) = 14.753769955520582\n",
      "norm(results.x .- Z_optm) = "
     ]
    },
    {
     "name": "stdout",
     "output_type": "stream",
     "text": [
      "10.60448119900306\n"
     ]
    },
    {
     "name": "stdout",
     "output_type": "stream",
     "text": [
      "\u001b[0m\u001b[1mTest Summary:        | \u001b[22m\u001b[32m\u001b[1mPass  \u001b[22m\u001b[39m\u001b[36m\u001b[1mTotal  \u001b[22m\u001b[39m\u001b[0m\u001b[1m Time\u001b[22m\n",
      "Minimum Curvature QP | \u001b[32m   2  \u001b[39m\u001b[36m    2  \u001b[39m\u001b[0m21.1s\n"
     ]
    },
    {
     "data": {
      "text/plain": [
       "Test.DefaultTestSet(\"Minimum Curvature QP\", Any[], 2, false, false, true, 1.683532972013093e9, 1.683532993150253e9)"
      ]
     },
     "metadata": {},
     "output_type": "display_data"
    }
   ],
   "source": [
    "@testset \"Minimum Curvature QP\" begin\n",
    "    interval = 1.0 # discretization interval\n",
    "    \n",
    "    x, y, z = load_raw_trajectory(\"examples/race_track/monza/MONZA_UNOPTIMIZED_LINE_enu.csv\")\n",
    "    traj_s = SplineTrajectory(x, y, 5)\n",
    "\n",
    "    x, y, z = load_raw_trajectory(\"examples/race_track/monza/MONZA_LEFT_BOUNDARY_enu.csv\")\n",
    "    left_s = SplineTrajectory(x, y, 5)\n",
    "\n",
    "    x, y, z = load_raw_trajectory(\"examples/race_track/monza/MONZA_RIGHT_BOUNDARY_enu.csv\")\n",
    "    right_s = SplineTrajectory(x, y, 5)\n",
    "    \n",
    "    traj_d = discretize_trajectory(traj_s, interval)\n",
    "    left_d = discretize_trajectory(left_s, interval)\n",
    "    right_d = discretize_trajectory(right_s, interval)\n",
    "\n",
    "    set_trajectory_bounds(traj_d, left_d, right_d)\n",
    "\n",
    "    M = size(traj_d.data, 1)\n",
    "    ts = [range(0.0, length = M+1, stop = 1.0);]\n",
    "    ts = ts[begin:end-1]\n",
    "\n",
    "    coeffs_x = traj_s.spl_x.coefs\n",
    "    coeffs_y = traj_s.spl_y.coefs\n",
    "\n",
    "    N = length(coeffs_x)\n",
    "    Z = zeros(eltype(coeffs_x), N * 2)\n",
    "    Z[begin:N] .= coeffs_x\n",
    "    Z[N+1:end] .= coeffs_y\n",
    "\n",
    "    A, min_bound, max_bound, B = track_boundary_constraint(Z, traj_s, traj_d, ts)\n",
    "    q = zeros(eltype(coeffs_x), N * 2)\n",
    "\n",
    "    A2 = zeros(eltype(traj_d.data), 2 * M, 2 * N)\n",
    "    A2[begin:M, begin:N] = B\n",
    "    A2[M+1:end, N+1:end] = B\n",
    "\n",
    "    Z_optm = Z\n",
    "\n",
    "    for i=1:10\n",
    "        H = min_curvature_cost(Z_optm, traj_s, ts) .* 1e9\n",
    "        m = OSQP.Model()\n",
    "        OSQP.setup!(m; P=sparse(H), q=q, A=sparse(A), l=min_bound, u=max_bound, verbose=false)\n",
    "        OSQP.warm_start!(m; x=Z)\n",
    "        results = OSQP.solve!(m)\n",
    "        @show norm(results.x .- Z_optm)\n",
    "        Z_optm = results.x\n",
    "        traj_s.spl_x.coefs .= Z_optm[begin:N]\n",
    "        traj_s.spl_y.coefs .= Z_optm[N+1:end]\n",
    "    end\n",
    "\n",
    "    traj_optm = A2 * Z_optm\n",
    "    plt.plot(traj_optm[1:M], traj_optm[M+1:end], \"-o\")\n",
    "    plt.plot(traj_d.data[:, TRAJ_LEFT_BOUND_X], traj_d.data[:, TRAJ_LEFT_BOUND_Y])\n",
    "    plt.plot(traj_d.data[:, TRAJ_RIGHT_BOUND_X], traj_d.data[:, TRAJ_RIGHT_BOUND_Y])\n",
    "    plt.plot(traj_d.data[:, TRAJ_X], traj_d.data[:, TRAJ_Y])\n",
    "    plt.gca().set_aspect(\"equal\")\n",
    "    plt.show()\n",
    "\n",
    "    @test min_bound <= A * Z <= max_bound\n",
    "    @test min_bound <= A * Z_optm <= max_bound\n",
    "end"
   ]
  }
 ],
 "metadata": {
  "kernelspec": {
   "display_name": "Julia 1.8.5",
   "language": "julia",
   "name": "julia-1.8"
  },
  "language_info": {
   "file_extension": ".jl",
   "mimetype": "application/julia",
   "name": "julia",
   "version": "1.8.5"
  },
  "orig_nbformat": 4
 },
 "nbformat": 4,
 "nbformat_minor": 2
}
