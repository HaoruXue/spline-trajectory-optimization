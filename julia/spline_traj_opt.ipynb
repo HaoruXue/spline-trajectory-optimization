{
 "cells": [
  {
   "cell_type": "code",
   "execution_count": 1,
   "metadata": {},
   "outputs": [
    {
     "name": "stderr",
     "output_type": "stream",
     "text": [
      "\u001b[32m\u001b[1m  Activating\u001b[22m\u001b[39m project at `~/art/spline-trajectory-optimization/julia`\n"
     ]
    }
   ],
   "source": [
    "import Pkg; \n",
    "Pkg.activate(@__DIR__); \n",
    "Pkg.instantiate()"
   ]
  },
  {
   "cell_type": "code",
   "execution_count": 2,
   "metadata": {},
   "outputs": [
    {
     "data": {
      "text/plain": [
       "load_raw_trajectory (generic function with 1 method)"
      ]
     },
     "metadata": {},
     "output_type": "display_data"
    }
   ],
   "source": [
    "include(\"utils/SplineTrajectory.jl\")\n",
    "include(\"utils/DiscreteTrajectory.jl\")\n",
    "include(\"utils/IO.jl\")"
   ]
  },
  {
   "cell_type": "code",
   "execution_count": 3,
   "metadata": {},
   "outputs": [
    {
     "data": {
      "image/png": "",
      "text/plain": []
     },
     "metadata": {},
     "output_type": "display_data"
    }
   ],
   "source": [
    "import ForwardDiff as FD\n",
    "import BSplineKit as BK\n",
    "import PyPlot as plt\n",
    "plt.pygui(true)\n",
    "using Test\n",
    "using DelimitedFiles\n",
    "using OSQP\n",
    "using SparseArrays\n",
    "using Statistics\n",
    "Drawing()"
   ]
  },
  {
   "cell_type": "code",
   "execution_count": 4,
   "metadata": {},
   "outputs": [],
   "source": [
    "# ENV[\"PYTHON\"]=\"/home/haoru/art/spline_traj_opt_virtualenv/bin/python3\"; Pkg.build(\"PyCall\");"
   ]
  },
  {
   "cell_type": "code",
   "execution_count": 5,
   "metadata": {},
   "outputs": [
    {
     "data": {
      "text/plain": [
       "eval_coeffs (generic function with 2 methods)"
      ]
     },
     "metadata": {},
     "output_type": "display_data"
    }
   ],
   "source": [
    "function eval_coeffs(\n",
    "    basis::BK.PeriodicBSplineBasis,\n",
    "    coeffs::AbstractVector{T},\n",
    "    ts::AbstractVector{Float64},\n",
    "    op = BK.Derivative(0)) where {T}\n",
    "    N = length(ts)\n",
    "    x = zeros(T, N)\n",
    "    k = typeof(basis).parameters[1]\n",
    "    for i=1:N\n",
    "        ti = ts[i]\n",
    "        idx, bs = basis(ti, op)\n",
    "        for j=1:k\n",
    "            x[i] += bs[j] * coeffs[idx-j+1]\n",
    "        end\n",
    "    end\n",
    "    return x\n",
    "end\n",
    "    "
   ]
  },
  {
   "cell_type": "code",
   "execution_count": 6,
   "metadata": {},
   "outputs": [
    {
     "name": "stdout",
     "output_type": "stream",
     "text": [
      "\u001b[0m\u001b[1mTest Summary:        | \u001b[22m\u001b[32m\u001b[1mPass  \u001b[22m\u001b[39m\u001b[36m\u001b[1mTotal  \u001b[22m\u001b[39m\u001b[0m\u001b[1mTime\u001b[22m\n",
      "Curve reconstruction | \u001b[32m   3  \u001b[39m\u001b[36m    3  \u001b[39m\u001b[0m5.7s\n"
     ]
    },
    {
     "data": {
      "text/plain": [
       "Test.DefaultTestSet(\"Curve reconstruction\", Any[], 3, false, false, true, 1.694812553517213e9, 1.694812559234481e9, false)"
      ]
     },
     "metadata": {},
     "output_type": "display_data"
    }
   ],
   "source": [
    "@testset \"Curve reconstruction\" begin\n",
    "# Let's verify that the control points have a linear effect on the final curve shape\n",
    "# i.e. we can reconstruct the curve by multiplying the jacobians with the coefficients\n",
    "\n",
    "x, y, z = load_raw_trajectory(\"examples/race_track/monza/MONZA_UNOPTIMIZED_LINE_enu.csv\")\n",
    "traj = SplineTrajectory(x, y, 5)\n",
    "ts = [range(0.0, step = 0.01, stop = 0.99);]\n",
    "coeffs_x = copy(traj.spl_x.coefs)\n",
    "coeffs_y = copy(traj.spl_y.coefs)\n",
    "basis = traj.spl_x.basis\n",
    "dx = FD.jacobian(coef->eval_coeffs(basis, coef, ts), coeffs_x)\n",
    "dy = FD.jacobian(coef->eval_coeffs(basis, coef, ts), coeffs_y)\n",
    "\n",
    "x_recon = dx * coeffs_x.data\n",
    "y_recon = dy * coeffs_y.data\n",
    "\n",
    "x_intp, y_intp = traj_ev(traj, ts)\n",
    "\n",
    "@test dx == dy\n",
    "@test norm(x_recon-x_intp) < 1e-9\n",
    "@test norm(y_recon-y_intp) < 1e-9\n",
    "\n",
    "end"
   ]
  },
  {
   "attachments": {},
   "cell_type": "markdown",
   "metadata": {},
   "source": [
    "Now let's define the minimum-curvature cost function."
   ]
  },
  {
   "cell_type": "code",
   "execution_count": 7,
   "metadata": {},
   "outputs": [
    {
     "data": {
      "text/plain": [
       "min_curvature_cost (generic function with 1 method)"
      ]
     },
     "metadata": {},
     "output_type": "display_data"
    }
   ],
   "source": [
    "function min_curvature_cost(\n",
    "    Z::AbstractVector{T},\n",
    "    traj_s::SplineTrajectory,\n",
    "    ts::AbstractVector{Float64}) where {T}\n",
    "\n",
    "    N = length(ts)\n",
    "    \n",
    "    Tx, Ty = traj_ev(traj_s, ts)\n",
    "    n = length(Tx)\n",
    "    distances = Float64[]\n",
    "    for i in 1:n\n",
    "        # Use modulo operator to connect the last point to the first point\n",
    "        j = i % n + 1\n",
    "        dx = Tx[j] - Tx[i]\n",
    "        dy = Ty[j] - Ty[i]\n",
    "        push!(distances, sqrt(dx^2 + dy^2))\n",
    "    end\n",
    "\n",
    "    dTx, dTy = traj_ev(traj_s, ts, BK.Derivative(1))\n",
    "    d2Tx, d2Ty = traj_ev(traj_s, ts, BK.Derivative(2))\n",
    "\n",
    "    # plot curvatures\n",
    "    curvatures = (dTx  .* d2Ty .- dTy .* d2Tx) ./ (dTx .^ 2 + dTy .^ 2) .^ 1.5\n",
    "    # @show size(curvatures)\n",
    "    plt.plot(curvatures)\n",
    "\n",
    "    v = ones(eltype(Z), N)\n",
    "    denom = (dTx .^ 2 + dTy .^ 2) .^ 3\n",
    "    demom = ones(eltype(Z), length(denom))\n",
    "    Pxx = (dTy .^ 2 .* v .* distances) ./ denom\n",
    "    Pxy = (-2.0 .* dTx .* dTy .* v .* distances) ./ denom\n",
    "    Pyy = (dTx .^ 2 .* v .* distances) ./ denom\n",
    "\n",
    "    Pxx = diagm(Pxx)\n",
    "    Pxy = diagm(Pxy)\n",
    "    Pyy = diagm(Pyy)\n",
    "\n",
    "    B = FD.jacobian(coef->eval_coeffs(traj_s.spl_x.basis, coef, ts), traj_s.spl_x.coefs)\n",
    "    # Bx = hcat(B, zeros(eltype(B), N, length(Z) ÷ 2))\n",
    "    # By = hcat(zeros(eltype(B), N, length(Z) ÷ 2), B)\n",
    "\n",
    "    # A = repeat(d2Tx, 1, length(traj_s.spl_x.coefs))\n",
    "    d2B = FD.jacobian(coef->eval_coeffs(traj_s.spl_x.basis, coef, ts, BK.Derivative(2)), traj_s.spl_x.coefs)\n",
    "    Bx = hcat(d2B, zeros(eltype(d2B), N, length(Z) ÷ 2))\n",
    "    By = hcat(zeros(eltype(d2B), N, length(Z) ÷ 2), d2B)\n",
    "    # # print shapes\n",
    "    # @show size(A)\n",
    "    # @show size(B)\n",
    "\n",
    "    Fx = d2Tx - eval_coeffs(traj_s.spl_x.basis, traj_s.spl_x.coefs, ts, BK.Derivative(2))\n",
    "    Fy = d2Ty - eval_coeffs(traj_s.spl_y.basis, traj_s.spl_y.coefs, ts, BK.Derivative(2))\n",
    "\n",
    "    H = 2.0 .* Bx' * Pxx * Bx + By' * Pxy * Bx + By' * Pyy * By\n",
    "    # g = Fx' * Pxx * Bx + Fx' * Pxy * By + Fy' * Pxy * Bx + Fy' * Pyy * By\n",
    "\n",
    "    # convert this python to julia\n",
    "    # (Fx.T @ Pxx @ Bx + Fy.T @ Pxy @ By + Fy.T @ Pyy @ By) + (Bx.T @ Pxx @ Fx + By.T @ Pxy @ Fx + By.T @ Pyy @ Fy).T\n",
    "    g = (Fx' * Pxx * Bx + Fy' * Pxy * By + Fy' * Pyy * By) + (Bx' * Pxx * Fx + By' * Pxy * Fx + By' * Pyy * Fy)'\n",
    "    # convert matrix to vector\n",
    "    g = g[1, :]\n",
    "    # @show mean(g)\n",
    "    return H, g\n",
    "end"
   ]
  },
  {
   "attachments": {},
   "cell_type": "markdown",
   "metadata": {},
   "source": [
    "We encode the track boundary constraints in frenet frame. For each point $p(x,y)$ and its original position $p_0(x,y)$ and heading $\\theta$,\n",
    "\n",
    "$$\n",
    "\\begin{align}\n",
    "& s_{\\text{right}} \\le R(p-p_0) \\le s_{\\text{left}} \\\\\n",
    "\\text{where} \\quad & R = x\\sin\\theta+y\\cos\\theta\n",
    "\\end{align}\n",
    "$$\n",
    "\n",
    "R finds the lateral coordinate of the point in frenet frame, with left being positive.\n",
    "\n",
    "The equation is rearranged to form a standard QP constraint\n",
    "\n",
    "$$\n",
    "\\begin{align}\n",
    "& a_{\\text{lb}} \\le AZ \\le a_{\\text{ub}}\n",
    "\\end{align}\n",
    "$$"
   ]
  },
  {
   "cell_type": "code",
   "execution_count": 8,
   "metadata": {},
   "outputs": [
    {
     "data": {
      "text/plain": [
       "track_boundary_constraint (generic function with 1 method)"
      ]
     },
     "metadata": {},
     "output_type": "display_data"
    }
   ],
   "source": [
    "function track_boundary_constraint(Z::AbstractVector{T}, traj_s::SplineTrajectory, traj_d::DiscreteTrajectory, ts::Vector{Float64}) where {T}\n",
    "    M = size(traj_d.data, 1)\n",
    "    N = length(Z) ÷ 2\n",
    "    # left_x = traj_d.data[:, TRAJ_LEFT_BOUND_X]\n",
    "    # left_y = traj_d.data[:, TRAJ_LEFT_BOUND_Y]\n",
    "    # right_x = traj_d.data[:, TRAJ_RIGHT_BOUND_X]\n",
    "    # right_y = traj_d.data[:, TRAJ_RIGHT_BOUND_Y]\n",
    "    # min_bound = zeros(eltype(traj_d.data), 2 * M)\n",
    "    # min_bound[begin:M] = min.(left_x, right_x)\n",
    "    # min_bound[M+1:end] = min.(left_y, right_y)\n",
    "    # max_bound = zeros(eltype(traj_d.data), 2 * M)\n",
    "    # max_bound[begin:M] = max.(left_x, right_x)\n",
    "    # max_bound[M+1:end] = max.(left_y, right_y)\n",
    "    \n",
    "    A2 = zeros(eltype(traj_d.data), 2 * M, 2 * N)\n",
    "    B = FD.jacobian(coef->eval_coeffs(traj_s.spl_x.basis, coef, ts), traj_s.spl_x.coefs)\n",
    "    A2[begin:M, begin:N] = B\n",
    "    A2[M+1:end, N+1:end] = B\n",
    "\n",
    "    cosθ = cos.(traj_d.data[:, TRAJ_YAW])\n",
    "    sinθ = sin.(traj_d.data[:, TRAJ_YAW])\n",
    "    # A11 = hcat(diagm(cosθ), diagm(sinθ) .* -1.0)\n",
    "    # A12 = hcat(diagm(sinθ), diagm(cosθ))\n",
    "    A11 = hcat(diagm(cosθ), diagm(sinθ))\n",
    "    A12 = hcat(diagm(sinθ) .* -1.0, diagm(cosθ))\n",
    "    A1 = vcat(A11, A12)\n",
    "    A = A1 * A2\n",
    "    b = -1.0 * A * Z\n",
    "\n",
    "    Δr = traj_d.data[:, TRAJ_RIGHT_BOUND_X:TRAJ_RIGHT_BOUND_Y] - traj_d.data[:, TRAJ_X:TRAJ_Y]\n",
    "    Δl = traj_d.data[:, TRAJ_LEFT_BOUND_X:TRAJ_LEFT_BOUND_Y] - traj_d.data[:, TRAJ_X:TRAJ_Y]\n",
    "    min_bound = traj_d.data[:, TRAJ_LAT_ACC] .* -1.0 .* norm.(eachrow(Δr)) .+ 2.0\n",
    "    min_bound = vcat(min_bound, ones(eltype(min_bound), M) .* -1.0) - b\n",
    "    max_bound = traj_d.data[:, TRAJ_LON_ACC] .* norm.(eachrow(Δl)) .- 2.0\n",
    "    max_bound = vcat(max_bound, ones(eltype(max_bound), M) .* 1.0) - b\n",
    "\n",
    "    return A, min_bound, max_bound, B\n",
    "end"
   ]
  },
  {
   "cell_type": "code",
   "execution_count": 9,
   "metadata": {},
   "outputs": [
    {
     "name": "stdout",
     "output_type": "stream",
     "text": [
      "Minimum Curvature QP: \u001b[91m\u001b[1mError During Test\u001b[22m\u001b[39m at \u001b[39m\u001b[1m/home/haoru/art/spline-trajectory-optimization/julia/spline_traj_opt.ipynb:1\u001b[22m\n",
      "  Got exception outside of a @test\n",
      "  Roots.ConvergenceFailed(\"Algorithm failed to converge\")\n",
      "  Stacktrace:\n",
      "    [1] \u001b[0m\u001b[1m#find_zero#39\u001b[22m\n",
      "  \u001b[90m    @\u001b[39m \u001b[90m~/.julia/packages/Roots/KFjk1/src/\u001b[39m\u001b[90m\u001b[4mfind_zero.jl:229\u001b[24m\u001b[39m\u001b[90m [inlined]\u001b[39m\n",
      "    [2] \u001b[0m\u001b[1mfind_zero\u001b[22m\u001b[90m (repeats 2 times)\u001b[39m\n",
      "  \u001b[90m    @\u001b[39m \u001b[90m~/.julia/packages/Roots/KFjk1/src/\u001b[39m\u001b[90m\u001b[4mfind_zero.jl:210\u001b[24m\u001b[39m\u001b[90m [inlined]\u001b[39m\n",
      "    [3] \u001b[0m\u001b[1m#find_zero#40\u001b[22m\n",
      "  \u001b[90m    @\u001b[39m \u001b[90m~/.julia/packages/Roots/KFjk1/src/\u001b[39m\u001b[90m\u001b[4mfind_zero.jl:243\u001b[24m\u001b[39m\u001b[90m [inlined]\u001b[39m\n",
      "    [4] \u001b[0m\u001b[1mfind_zero\u001b[22m\n",
      "  \u001b[90m    @\u001b[39m \u001b[90m~/.julia/packages/Roots/KFjk1/src/\u001b[39m\u001b[90m\u001b[4mfind_zero.jl:243\u001b[24m\u001b[39m\u001b[90m [inlined]\u001b[39m\n",
      "    [5] \u001b[0m\u001b[1mdiscretize_trajectory\u001b[22m\u001b[0m\u001b[1m(\u001b[22m\u001b[90mtraj_s\u001b[39m::\u001b[0mSplineTrajectory, \u001b[90minterval\u001b[39m::\u001b[0mFloat64, \u001b[90mfast\u001b[39m::\u001b[0mBool\u001b[0m\u001b[1m)\u001b[22m\n",
      "  \u001b[90m    @\u001b[39m \u001b[35mMain\u001b[39m \u001b[90m~/art/spline-trajectory-optimization/julia/utils/\u001b[39m\u001b[90m\u001b[4mDiscreteTrajectory.jl:45\u001b[24m\u001b[39m\n",
      "    [6] \u001b[0m\u001b[1mmacro expansion\u001b[22m\n",
      "  \u001b[90m    @\u001b[39m \u001b[90m~/art/spline-trajectory-optimization/julia/\u001b[39m\u001b[90m\u001b[4mspline_traj_opt.ipynb:70\u001b[24m\u001b[39m\u001b[90m [inlined]\u001b[39m\n",
      "    [7] \u001b[0m\u001b[1mmacro expansion\u001b[22m\n",
      "  \u001b[90m    @\u001b[39m \u001b[90m~/Softwares/julia-1.9.3/share/julia/stdlib/v1.9/Test/src/\u001b[39m\u001b[90m\u001b[4mTest.jl:1498\u001b[24m\u001b[39m\u001b[90m [inlined]\u001b[39m\n",
      "    [8] top-level scope\n",
      "  \u001b[90m    @\u001b[39m \u001b[90m~/art/spline-trajectory-optimization/julia/\u001b[39m\u001b[90m\u001b[4mspline_traj_opt.ipynb:2\u001b[24m\u001b[39m\n",
      "    [9] \u001b[0m\u001b[1meval\u001b[22m\n",
      "  \u001b[90m    @\u001b[39m \u001b[90m./\u001b[39m\u001b[90m\u001b[4mboot.jl:370\u001b[24m\u001b[39m\u001b[90m [inlined]\u001b[39m\n",
      "   [10] \u001b[0m\u001b[1minclude_string\u001b[22m\u001b[0m\u001b[1m(\u001b[22m\u001b[90mmapexpr\u001b[39m::\u001b[0mtypeof(REPL.softscope), \u001b[90mmod\u001b[39m::\u001b[0mModule, \u001b[90mcode\u001b[39m::\u001b[0mString, \u001b[90mfilename\u001b[39m::\u001b[0mString\u001b[0m\u001b[1m)\u001b[22m\n",
      "  \u001b[90m    @\u001b[39m \u001b[90mBase\u001b[39m \u001b[90m./\u001b[39m\u001b[90m\u001b[4mloading.jl:1903\u001b[24m\u001b[39m\n",
      "   [11] \u001b[0m\u001b[1m#invokelatest#2\u001b[22m\n",
      "  \u001b[90m    @\u001b[39m \u001b[90m./\u001b[39m\u001b[90m\u001b[4messentials.jl:819\u001b[24m\u001b[39m\u001b[90m [inlined]\u001b[39m\n",
      "   [12] \u001b[0m\u001b[1minvokelatest\u001b[22m\n",
      "  \u001b[90m    @\u001b[39m \u001b[90m./\u001b[39m\u001b[90m\u001b[4messentials.jl:816\u001b[24m\u001b[39m\u001b[90m [inlined]\u001b[39m\n",
      "   [13] \u001b[0m\u001b[1m(::VSCodeServer.var\"#202#203\"{VSCodeServer.NotebookRunCellArguments, String})\u001b[22m\u001b[0m\u001b[1m(\u001b[22m\u001b[0m\u001b[1m)\u001b[22m\n",
      "  \u001b[90m    @\u001b[39m \u001b[36mVSCodeServer\u001b[39m \u001b[90m~/.vscode/extensions/julialang.language-julia-1.51.2/scripts/packages/VSCodeServer/src/\u001b[39m\u001b[90m\u001b[4mserve_notebook.jl:19\u001b[24m\u001b[39m\n",
      "   [14] \u001b[0m\u001b[1mwithpath\u001b[22m\u001b[0m\u001b[1m(\u001b[22m\u001b[90mf\u001b[39m::\u001b[0mVSCodeServer.var\"#202#203\"\u001b[90m{VSCodeServer.NotebookRunCellArguments, String}\u001b[39m, \u001b[90mpath\u001b[39m::\u001b[0mString\u001b[0m\u001b[1m)\u001b[22m\n",
      "  \u001b[90m    @\u001b[39m \u001b[36mVSCodeServer\u001b[39m \u001b[90m~/.vscode/extensions/julialang.language-julia-1.51.2/scripts/packages/VSCodeServer/src/\u001b[39m\u001b[90m\u001b[4mrepl.jl:274\u001b[24m\u001b[39m\n",
      "   [15] \u001b[0m\u001b[1mnotebook_runcell_request\u001b[22m\u001b[0m\u001b[1m(\u001b[22m\u001b[90mconn\u001b[39m::\u001b[0mVSCodeServer.JSONRPC.JSONRPCEndpoint\u001b[90m{Base.PipeEndpoint, Base.PipeEndpoint}\u001b[39m, \u001b[90mparams\u001b[39m::\u001b[0mVSCodeServer.NotebookRunCellArguments\u001b[0m\u001b[1m)\u001b[22m\n",
      "  \u001b[90m    @\u001b[39m \u001b[36mVSCodeServer\u001b[39m \u001b[90m~/.vscode/extensions/julialang.language-julia-1.51.2/scripts/packages/VSCodeServer/src/\u001b[39m\u001b[90m\u001b[4mserve_notebook.jl:13\u001b[24m\u001b[39m\n",
      "   [16] \u001b[0m\u001b[1mdispatch_msg\u001b[22m\u001b[0m\u001b[1m(\u001b[22m\u001b[90mx\u001b[39m::\u001b[0mVSCodeServer.JSONRPC.JSONRPCEndpoint\u001b[90m{Base.PipeEndpoint, Base.PipeEndpoint}\u001b[39m, \u001b[90mdispatcher\u001b[39m::\u001b[0mVSCodeServer.JSONRPC.MsgDispatcher, \u001b[90mmsg\u001b[39m::\u001b[0mDict\u001b[90m{String, Any}\u001b[39m\u001b[0m\u001b[1m)\u001b[22m\n",
      "  \u001b[90m    @\u001b[39m \u001b[36mVSCodeServer.JSONRPC\u001b[39m \u001b[90m~/.vscode/extensions/julialang.language-julia-1.51.2/scripts/packages/JSONRPC/src/\u001b[39m\u001b[90m\u001b[4mtyped.jl:67\u001b[24m\u001b[39m\n",
      "   [17] \u001b[0m\u001b[1mserve_notebook\u001b[22m\u001b[0m\u001b[1m(\u001b[22m\u001b[90mpipename\u001b[39m::\u001b[0mString, \u001b[90moutputchannel_logger\u001b[39m::\u001b[0mBase.CoreLogging.SimpleLogger; \u001b[90mcrashreporting_pipename\u001b[39m::\u001b[0mString\u001b[0m\u001b[1m)\u001b[22m\n",
      "  \u001b[90m    @\u001b[39m \u001b[36mVSCodeServer\u001b[39m \u001b[90m~/.vscode/extensions/julialang.language-julia-1.51.2/scripts/packages/VSCodeServer/src/\u001b[39m\u001b[90m\u001b[4mserve_notebook.jl:139\u001b[24m\u001b[39m\n",
      "   [18] top-level scope\n",
      "  \u001b[90m    @\u001b[39m \u001b[90m~/.vscode/extensions/julialang.language-julia-1.51.2/scripts/notebook/\u001b[39m\u001b[90m\u001b[4mnotebook.jl:32\u001b[24m\u001b[39m\n",
      "   [19] \u001b[0m\u001b[1minclude\u001b[22m\u001b[0m\u001b[1m(\u001b[22m\u001b[90mmod\u001b[39m::\u001b[0mModule, \u001b[90m_path\u001b[39m::\u001b[0mString\u001b[0m\u001b[1m)\u001b[22m\n",
      "  \u001b[90m    @\u001b[39m \u001b[90mBase\u001b[39m \u001b[90m./\u001b[39m\u001b[90m\u001b[4mBase.jl:457\u001b[24m\u001b[39m\n",
      "   [20] \u001b[0m\u001b[1mexec_options\u001b[22m\u001b[0m\u001b[1m(\u001b[22m\u001b[90mopts\u001b[39m::\u001b[0mBase.JLOptions\u001b[0m\u001b[1m)\u001b[22m\n",
      "  \u001b[90m    @\u001b[39m \u001b[90mBase\u001b[39m \u001b[90m./\u001b[39m\u001b[90m\u001b[4mclient.jl:307\u001b[24m\u001b[39m\n",
      "   [21] \u001b[0m\u001b[1m_start\u001b[22m\u001b[0m\u001b[1m(\u001b[22m\u001b[0m\u001b[1m)\u001b[22m\n",
      "  \u001b[90m    @\u001b[39m \u001b[90mBase\u001b[39m \u001b[90m./\u001b[39m\u001b[90m\u001b[4mclient.jl:522\u001b[24m\u001b[39m\n",
      "\u001b[0m\u001b[1mTest Summary:        | \u001b[22m"
     ]
    },
    {
     "name": "stdout",
     "output_type": "stream",
     "text": [
      "\u001b[91m\u001b[1mError  \u001b[22m\u001b[39m\u001b[36m\u001b[1mTotal  \u001b[22m\u001b[39m\u001b[0m\u001b[1m   Time\u001b[22m\n",
      "Minimum Curvature QP | \u001b[91m    1  \u001b[39m\u001b[36m    1  \u001b[39m\u001b[0m1m00.2s\n"
     ]
    },
    {
     "ename": "TestSetException",
     "evalue": "Some tests did not pass: 0 passed, 0 failed, 1 errored, 0 broken.",
     "output_type": "error",
     "traceback": [
      "Some tests did not pass: 0 passed, 0 failed, 1 errored, 0 broken.\n",
      "\n",
      "Stacktrace:\n",
      " [1] finish(ts::Test.DefaultTestSet)\n",
      "   @ Test ~/Softwares/julia-1.9.3/share/julia/stdlib/v1.9/Test/src/Test.jl:1151\n",
      " [2] macro expansion\n",
      "   @ ~/Softwares/julia-1.9.3/share/julia/stdlib/v1.9/Test/src/Test.jl:1514 [inlined]\n",
      " [3] top-level scope\n",
      "   @ ~/art/spline-trajectory-optimization/julia/spline_traj_opt.ipynb:2"
     ]
    }
   ],
   "source": [
    "@testset \"Minimum Curvature QP\" begin\n",
    "    interval = 3.0 # discretization interval\n",
    "    \n",
    "    x, y, z = load_raw_trajectory(\"examples/race_track/monza/MONZA_UNOPTIMIZED_LINE_enu.csv\")\n",
    "    traj_s = SplineTrajectory(x, y, 3)\n",
    "\n",
    "    x, y, z = load_raw_trajectory(\"examples/race_track/monza/MONZA_LEFT_BOUNDARY_enu.csv\")\n",
    "    left_s = SplineTrajectory(x, y, 3)\n",
    "\n",
    "    x, y, z = load_raw_trajectory(\"examples/race_track/monza/MONZA_RIGHT_BOUNDARY_enu.csv\")\n",
    "    right_s = SplineTrajectory(x, y, 3)\n",
    "\n",
    "    # x, y, z = load_raw_trajectory(\"examples/race_track/putnam/PUTNAM_0_CENTER_enu.csv\")\n",
    "    # traj_s = SplineTrajectory(x, y, 3)\n",
    "\n",
    "    # x, y, z = load_raw_trajectory(\"examples/race_track/putnam/PUTNAM_BOUND_0_LEFT_enu.csv\")\n",
    "    # left_s = SplineTrajectory(x, y, 3)\n",
    "\n",
    "    # x, y, z = load_raw_trajectory(\"examples/race_track/putnam/PUTNAM_BOUND_0_RIGHT_enu.csv\")\n",
    "    # right_s = SplineTrajectory(x, y, 3)\n",
    "    \n",
    "    traj_d, ts= discretize_trajectory(traj_s, interval, false)\n",
    "    left_d, _ = discretize_trajectory(left_s, 0.5)\n",
    "    right_d, _ = discretize_trajectory(right_s, 0.5)\n",
    "\n",
    "    set_trajectory_bounds(traj_d, left_d, right_d)\n",
    "\n",
    "    M = size(traj_d.data, 1)\n",
    "\n",
    "    coeffs_x = traj_s.spl_x.coefs\n",
    "    coeffs_y = traj_s.spl_y.coefs\n",
    "\n",
    "    N = length(coeffs_x)\n",
    "    Z = zeros(eltype(coeffs_x), N * 2)\n",
    "    Z[begin:N] .= coeffs_x\n",
    "    Z[N+1:end] .= coeffs_y\n",
    "\n",
    "    A, min_bound, max_bound, B = track_boundary_constraint(Z, traj_s, traj_d, ts)\n",
    "    q = zeros(eltype(coeffs_x), N * 2)\n",
    "\n",
    "    A2 = zeros(eltype(traj_d.data), 2 * M, 2 * N)\n",
    "    A2[begin:M, begin:N] = B\n",
    "    A2[M+1:end, N+1:end] = B\n",
    "\n",
    "    Z_optm = Z\n",
    "\n",
    "    for i=1:4\n",
    "        # obtain and normalize H to norm of 1\n",
    "        H, g = min_curvature_cost(Z_optm, traj_s, ts)\n",
    "        # check if H is positive semi-definite\n",
    "        # @test eigvals(H) >= 0.0\n",
    "        H = H ./ norm(H)\n",
    "        g = g ./ norm(H)\n",
    "        m = OSQP.Model()\n",
    "        # @show H\n",
    "        # @show size(g)\n",
    "        OSQP.setup!(m; P=sparse(H), q=q, A=sparse(A), l=min_bound, u=max_bound, verbose=false)\n",
    "        OSQP.warm_start!(m; x=Z)\n",
    "        results = OSQP.solve!(m)\n",
    "        # @show norm(results.x .- Z_optm)\n",
    "        Z_optm = results.x\n",
    "        traj_s.spl_x.coefs .= Z_optm[begin:N]\n",
    "        traj_s.spl_y.coefs .= Z_optm[N+1:end]\n",
    "\n",
    "        # if i == 1\n",
    "        #     break\n",
    "        # end\n",
    "\n",
    "        # prepare the next iteration\n",
    "        traj_d, ts = discretize_trajectory(traj_s, interval, false)\n",
    "        set_trajectory_bounds(traj_d, left_d, right_d)\n",
    "        M = size(traj_d.data, 1)\n",
    "        coeffs_x = traj_s.spl_x.coefs\n",
    "        coeffs_y = traj_s.spl_y.coefs\n",
    "        N = length(coeffs_x)\n",
    "        Z = zeros(eltype(coeffs_x), N * 2)\n",
    "        Z[begin:N] .= coeffs_x\n",
    "        Z[N+1:end] .= coeffs_y\n",
    "        A, min_bound, max_bound, B = track_boundary_constraint(Z, traj_s, traj_d, ts)\n",
    "        q = zeros(eltype(coeffs_x), N * 2)\n",
    "        A2 = zeros(eltype(traj_d.data), 2 * M, 2 * N)\n",
    "        A2[begin:M, begin:N] = B\n",
    "        A2[M+1:end, N+1:end] = B\n",
    "        # Z_optm = Z\n",
    "    end\n",
    "\n",
    "    plt.show()\n",
    "    traj_optm = A2 * Z_optm\n",
    "    plt.plot(traj_optm[1:M], traj_optm[M+1:end], \".\")\n",
    "    plt.plot(traj_d.data[:, TRAJ_LEFT_BOUND_X], traj_d.data[:, TRAJ_LEFT_BOUND_Y])\n",
    "    plt.plot(traj_d.data[:, TRAJ_RIGHT_BOUND_X], traj_d.data[:, TRAJ_RIGHT_BOUND_Y])\n",
    "    # plt.plot(traj_d.data[:, TRAJ_X], traj_d.data[:, TRAJ_Y])\n",
    "    plt.gca().set_aspect(\"equal\")\n",
    "    plt.show()\n",
    "\n",
    "    @test min_bound <= A * Z <= max_bound\n",
    "    @test min_bound <= A * Z_optm <= max_bound\n",
    "end"
   ]
  }
 ],
 "metadata": {
  "kernelspec": {
   "display_name": "Julia 1.9.3",
   "language": "julia",
   "name": "julia-1.9"
  },
  "language_info": {
   "file_extension": ".jl",
   "mimetype": "application/julia",
   "name": "julia",
   "version": "1.9.3"
  },
  "orig_nbformat": 4
 },
 "nbformat": 4,
 "nbformat_minor": 2
}
