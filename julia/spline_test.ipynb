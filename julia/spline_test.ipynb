{
 "cells": [
  {
   "cell_type": "code",
   "execution_count": 1,
   "metadata": {},
   "outputs": [],
   "source": [
    "using Random\n",
    "rng = MersenneTwister(42)\n",
    "\n",
    "Ndata = 20\n",
    "xs = range(0, 1; length = Ndata) .+ 0.01 .* randn(rng, Ndata)\n",
    "sort!(xs)  # make sure coordinates are sorted\n",
    "xs[begin] = 0; xs[end] = 1;   # not strictly necessary; just to set the data limits\n",
    "ys = sinpi.(xs) .+ 0.02 .* randn(rng, Ndata);"
   ]
  },
  {
   "cell_type": "code",
   "execution_count": 4,
   "metadata": {},
   "outputs": [],
   "source": [
    "using CairoMakie\n",
    "scatter(xs, ys; label = \"Data\", color = :black)"
   ]
  },
  {
   "cell_type": "code",
   "execution_count": null,
   "metadata": {},
   "outputs": [],
   "source": [
    "using BSplineKit\n",
    "S = interpolate(xs, ys, BSplineOrder(4))"
   ]
  },
  {
   "cell_type": "code",
   "execution_count": null,
   "metadata": {},
   "outputs": [],
   "source": [
    "lines!(0..1, x -> S(x); label = \"k = 4\", color = Cycled(4 - 3))"
   ]
  },
  {
   "cell_type": "code",
   "execution_count": null,
   "metadata": {},
   "outputs": [],
   "source": [
    "for k ∈ (5, 6, 8)\n",
    "    S = interpolate(xs, ys, BSplineOrder(k))\n",
    "    lines!(0..1, x -> S(x); label = \"k = $k\", color = Cycled(k - 3))\n",
    "end\n",
    "axislegend()"
   ]
  },
  {
   "cell_type": "code",
   "execution_count": null,
   "metadata": {},
   "outputs": [],
   "source": [
    "k = 8\n",
    "S = interpolate(xs, ys, BSplineOrder(k))  # without BCs\n",
    "Snat = interpolate(xs, ys, BSplineOrder(k), Natural())  # with natural BCs"
   ]
  },
  {
   "cell_type": "code",
   "execution_count": null,
   "metadata": {},
   "outputs": [],
   "source": [
    "scatter(xs, ys; label = \"Data\", color = :black)\n",
    "lines!(0..1, x -> S(x); label = \"k = $k (original)\", linewidth = 2)\n",
    "lines!(0..1, x -> Snat(x); label = \"k = $k (natural)\", linestyle = :dash, linewidth = 4)\n",
    "axislegend()"
   ]
  },
  {
   "cell_type": "code",
   "execution_count": null,
   "metadata": {},
   "outputs": [],
   "source": [
    "xs = 0:0.2:1\n",
    "ys = 2 * cospi.(xs)\n",
    "S = interpolate(xs, ys, BSplineOrder(4))"
   ]
  },
  {
   "cell_type": "code",
   "execution_count": null,
   "metadata": {},
   "outputs": [],
   "source": [
    "E_flat   = extrapolate(S, Flat())\n",
    "E_smooth = extrapolate(S, Smooth())"
   ]
  },
  {
   "cell_type": "code",
   "execution_count": null,
   "metadata": {},
   "outputs": [],
   "source": [
    "fig = Figure(resolution = (600, 400))\n",
    "ax = Axis(fig[1, 1])\n",
    "scatter!(ax, xs, ys; label = \"Data\", color = :black)\n",
    "lines!(ax, -0.5..1.5, x -> S(x); label = \"No extrapolation\", linewidth = 2)\n",
    "lines!(ax, -0.5..1.5, x -> E_smooth(x); label = \"Smooth\", linestyle = :dash, linewidth = 2)\n",
    "lines!(ax, -0.5..1.5, x -> E_flat(x); label = \"Flat\", linestyle = :dot, linewidth = 2)\n",
    "axislegend(ax)\n",
    "fig"
   ]
  }
 ],
 "metadata": {
  "kernelspec": {
   "display_name": "Julia 1.8.5",
   "language": "julia",
   "name": "julia-1.8"
  },
  "language_info": {
   "file_extension": ".jl",
   "mimetype": "application/julia",
   "name": "julia",
   "version": "1.8.5"
  },
  "orig_nbformat": 4
 },
 "nbformat": 4,
 "nbformat_minor": 2
}
