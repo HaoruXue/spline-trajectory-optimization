{
 "cells": [
  {
   "cell_type": "code",
   "execution_count": 1,
   "metadata": {},
   "outputs": [
    {
     "name": "stderr",
     "output_type": "stream",
     "text": [
      "\u001b[32m\u001b[1m  Activating\u001b[22m\u001b[39m project at `~/art/spline-trajectory-optimization/julia`\n"
     ]
    }
   ],
   "source": [
    "import Pkg; \n",
    "Pkg.activate(@__DIR__); \n",
    "Pkg.instantiate()"
   ]
  },
  {
   "cell_type": "code",
   "execution_count": 2,
   "metadata": {},
   "outputs": [
    {
     "data": {
      "text/plain": [
       "load_raw_trajectory (generic function with 1 method)"
      ]
     },
     "metadata": {},
     "output_type": "display_data"
    }
   ],
   "source": [
    "include(\"utils/SplineTrajectory.jl\")\n",
    "include(\"utils/DiscreteTrajectory.jl\")\n",
    "include(\"utils/IO.jl\")"
   ]
  },
  {
   "cell_type": "code",
   "execution_count": 3,
   "metadata": {},
   "outputs": [
    {
     "data": {
      "image/png": "",
      "text/plain": []
     },
     "metadata": {},
     "output_type": "display_data"
    }
   ],
   "source": [
    "import ForwardDiff as FD\n",
    "import BSplineKit as BK\n",
    "import PyPlot as plt\n",
    "plt.pygui(true)\n",
    "using Test\n",
    "using DelimitedFiles\n",
    "using OSQP\n",
    "using SparseArrays\n",
    "using Statistics\n",
    "Drawing()"
   ]
  },
  {
   "cell_type": "code",
   "execution_count": 4,
   "metadata": {},
   "outputs": [],
   "source": [
    "# ENV[\"PYTHON\"]=\"/home/haoru/art/spline_traj_opt_virtualenv/bin/python3\"; Pkg.build(\"PyCall\");"
   ]
  },
  {
   "cell_type": "code",
   "execution_count": 5,
   "metadata": {},
   "outputs": [
    {
     "data": {
      "text/plain": [
       "eval_coeffs (generic function with 2 methods)"
      ]
     },
     "metadata": {},
     "output_type": "display_data"
    }
   ],
   "source": [
    "function eval_coeffs(\n",
    "    basis::BK.PeriodicBSplineBasis,\n",
    "    coeffs::AbstractVector{T},\n",
    "    ts::AbstractVector{Float64},\n",
    "    op = BK.Derivative(0)) where {T}\n",
    "    N = length(ts)\n",
    "    x = zeros(T, N)\n",
    "    k = typeof(basis).parameters[1]\n",
    "    for i=1:N\n",
    "        ti = ts[i]\n",
    "        idx, bs = basis(ti, op)\n",
    "        for j=1:k\n",
    "            x[i] += bs[j] * coeffs[idx-j+1]\n",
    "        end\n",
    "    end\n",
    "    return x\n",
    "end\n",
    "    "
   ]
  },
  {
   "cell_type": "code",
   "execution_count": 6,
   "metadata": {},
   "outputs": [
    {
     "name": "stdout",
     "output_type": "stream",
     "text": [
      "\u001b[0m\u001b[1mTest Summary:        | \u001b[22m\u001b[32m\u001b[1mPass  \u001b[22m\u001b[39m\u001b[36m\u001b[1mTotal  \u001b[22m\u001b[39m\u001b[0m\u001b[1mTime\u001b[22m\n",
      "Curve reconstruction | \u001b[32m   3  \u001b[39m\u001b[36m    3  \u001b[39m\u001b[0m6.0s\n"
     ]
    },
    {
     "data": {
      "text/plain": [
       "Test.DefaultTestSet(\"Curve reconstruction\", Any[], 3, false, false, true, 1.694917368189596e9, 1.694917374142454e9, false)"
      ]
     },
     "metadata": {},
     "output_type": "display_data"
    }
   ],
   "source": [
    "@testset \"Curve reconstruction\" begin\n",
    "# Let's verify that the control points have a linear effect on the final curve shape\n",
    "# i.e. we can reconstruct the curve by multiplying the jacobians with the coefficients\n",
    "\n",
    "x, y, z = load_raw_trajectory(\"examples/race_track/monza/MONZA_UNOPTIMIZED_LINE_enu.csv\")\n",
    "traj = SplineTrajectory(x, y, 5)\n",
    "ts = [range(0.0, step = 0.01, stop = 0.99);]\n",
    "coeffs_x = copy(traj.spl_x.coefs)\n",
    "coeffs_y = copy(traj.spl_y.coefs)\n",
    "basis = traj.spl_x.basis\n",
    "dx = FD.jacobian(coef->eval_coeffs(basis, coef, ts), coeffs_x)\n",
    "dy = FD.jacobian(coef->eval_coeffs(basis, coef, ts), coeffs_y)\n",
    "\n",
    "x_recon = dx * coeffs_x.data\n",
    "y_recon = dy * coeffs_y.data\n",
    "\n",
    "x_intp, y_intp = traj_ev(traj, ts)\n",
    "\n",
    "@test dx == dy\n",
    "@test norm(x_recon-x_intp) < 1e-9\n",
    "@test norm(y_recon-y_intp) < 1e-9\n",
    "\n",
    "end"
   ]
  },
  {
   "attachments": {},
   "cell_type": "markdown",
   "metadata": {},
   "source": [
    "Now let's define the minimum-curvature cost function."
   ]
  },
  {
   "cell_type": "code",
   "execution_count": 7,
   "metadata": {},
   "outputs": [
    {
     "data": {
      "text/plain": [
       "min_curvature_cost (generic function with 1 method)"
      ]
     },
     "metadata": {},
     "output_type": "display_data"
    }
   ],
   "source": [
    "function min_curvature_cost(\n",
    "    Z::AbstractVector{T},\n",
    "    traj_s::SplineTrajectory,\n",
    "    ts::AbstractVector{Float64}) where {T}\n",
    "\n",
    "    N = length(ts)\n",
    "    \n",
    "    Tx, Ty = traj_ev(traj_s, ts)\n",
    "    n = length(Tx)\n",
    "    distances = Float64[]\n",
    "    for i in 1:n\n",
    "        # Use modulo operator to connect the last point to the first point\n",
    "        j = i % n + 1\n",
    "        dx = Tx[j] - Tx[i]\n",
    "        dy = Ty[j] - Ty[i]\n",
    "        push!(distances, sqrt(dx^2 + dy^2))\n",
    "    end\n",
    "\n",
    "    dTx, dTy = traj_ev(traj_s, ts, BK.Derivative(1))\n",
    "    d2Tx, d2Ty = traj_ev(traj_s, ts, BK.Derivative(2))\n",
    "\n",
    "    # plot curvatures\n",
    "    curvatures = (dTx  .* d2Ty .- dTy .* d2Tx) ./ (dTx .^ 2 + dTy .^ 2) .^ 1.5\n",
    "    # @show size(curvatures)\n",
    "    plt.plot(curvatures)\n",
    "\n",
    "    v = ones(eltype(Z), N)\n",
    "    denom = (dTx .^ 2 + dTy .^ 2) .^ 3\n",
    "    demom = ones(eltype(Z), length(denom))\n",
    "    Pxx = (dTy .^ 2 .* v .* distances) ./ denom\n",
    "    Pxy = (-2.0 .* dTx .* dTy .* v .* distances) ./ denom\n",
    "    Pyy = (dTx .^ 2 .* v .* distances) ./ denom\n",
    "\n",
    "    Pxx = diagm(Pxx)\n",
    "    Pxy = diagm(Pxy)\n",
    "    Pyy = diagm(Pyy)\n",
    "\n",
    "    B = FD.jacobian(coef->eval_coeffs(traj_s.spl_x.basis, coef, ts), traj_s.spl_x.coefs)\n",
    "    # Bx = hcat(B, zeros(eltype(B), N, length(Z) ÷ 2))\n",
    "    # By = hcat(zeros(eltype(B), N, length(Z) ÷ 2), B)\n",
    "\n",
    "    # A = repeat(d2Tx, 1, length(traj_s.spl_x.coefs))\n",
    "    d2B = FD.jacobian(coef->eval_coeffs(traj_s.spl_x.basis, coef, ts, BK.Derivative(2)), traj_s.spl_x.coefs)\n",
    "    Bx = hcat(d2B, zeros(eltype(d2B), N, length(Z) ÷ 2))\n",
    "    By = hcat(zeros(eltype(d2B), N, length(Z) ÷ 2), d2B)\n",
    "    # # print shapes\n",
    "    # @show size(A)\n",
    "    # @show size(B)\n",
    "\n",
    "    Fx = d2Tx - eval_coeffs(traj_s.spl_x.basis, traj_s.spl_x.coefs, ts, BK.Derivative(2))\n",
    "    Fy = d2Ty - eval_coeffs(traj_s.spl_y.basis, traj_s.spl_y.coefs, ts, BK.Derivative(2))\n",
    "\n",
    "    H = 2.0 .* Bx' * Pxx * Bx + By' * Pxy * Bx + By' * Pyy * By\n",
    "    # g = Fx' * Pxx * Bx + Fx' * Pxy * By + Fy' * Pxy * Bx + Fy' * Pyy * By\n",
    "\n",
    "    # convert this python to julia\n",
    "    # (Fx.T @ Pxx @ Bx + Fy.T @ Pxy @ By + Fy.T @ Pyy @ By) + (Bx.T @ Pxx @ Fx + By.T @ Pxy @ Fx + By.T @ Pyy @ Fy).T\n",
    "    g = (Fx' * Pxx * Bx + Fy' * Pxy * By + Fy' * Pyy * By) + (Bx' * Pxx * Fx + By' * Pxy * Fx + By' * Pyy * Fy)'\n",
    "    # convert matrix to vector\n",
    "    g = g[1, :]\n",
    "    # @show mean(g)\n",
    "    return H, g\n",
    "end"
   ]
  },
  {
   "attachments": {},
   "cell_type": "markdown",
   "metadata": {},
   "source": [
    "We encode the track boundary constraints in frenet frame. For each point $p(x,y)$ and its original position $p_0(x,y)$ and heading $\\theta$,\n",
    "\n",
    "$$\n",
    "\\begin{align}\n",
    "& s_{\\text{right}} \\le R(p-p_0) \\le s_{\\text{left}} \\\\\n",
    "\\text{where} \\quad & R = x\\sin\\theta+y\\cos\\theta\n",
    "\\end{align}\n",
    "$$\n",
    "\n",
    "R finds the lateral coordinate of the point in frenet frame, with left being positive.\n",
    "\n",
    "The equation is rearranged to form a standard QP constraint\n",
    "\n",
    "$$\n",
    "\\begin{align}\n",
    "& a_{\\text{lb}} \\le AZ \\le a_{\\text{ub}}\n",
    "\\end{align}\n",
    "$$"
   ]
  },
  {
   "cell_type": "code",
   "execution_count": 8,
   "metadata": {},
   "outputs": [
    {
     "data": {
      "text/plain": [
       "track_boundary_constraint (generic function with 1 method)"
      ]
     },
     "metadata": {},
     "output_type": "display_data"
    }
   ],
   "source": [
    "function track_boundary_constraint(Z::AbstractVector{T}, traj_s::SplineTrajectory, traj_d::DiscreteTrajectory, ts::Vector{Float64}) where {T}\n",
    "    M = size(traj_d.data, 1)\n",
    "    N = length(Z) ÷ 2\n",
    "    # left_x = traj_d.data[:, TRAJ_LEFT_BOUND_X]\n",
    "    # left_y = traj_d.data[:, TRAJ_LEFT_BOUND_Y]\n",
    "    # right_x = traj_d.data[:, TRAJ_RIGHT_BOUND_X]\n",
    "    # right_y = traj_d.data[:, TRAJ_RIGHT_BOUND_Y]\n",
    "    # min_bound = zeros(eltype(traj_d.data), 2 * M)\n",
    "    # min_bound[begin:M] = min.(left_x, right_x)\n",
    "    # min_bound[M+1:end] = min.(left_y, right_y)\n",
    "    # max_bound = zeros(eltype(traj_d.data), 2 * M)\n",
    "    # max_bound[begin:M] = max.(left_x, right_x)\n",
    "    # max_bound[M+1:end] = max.(left_y, right_y)\n",
    "    \n",
    "    A2 = zeros(eltype(traj_d.data), 2 * M, 2 * N)\n",
    "    B = FD.jacobian(coef->eval_coeffs(traj_s.spl_x.basis, coef, ts), traj_s.spl_x.coefs)\n",
    "    A2[begin:M, begin:N] = B\n",
    "    A2[M+1:end, N+1:end] = B\n",
    "\n",
    "    cosθ = cos.(traj_d.data[:, TRAJ_YAW])\n",
    "    sinθ = sin.(traj_d.data[:, TRAJ_YAW])\n",
    "    # A11 = hcat(diagm(cosθ), diagm(sinθ) .* -1.0)\n",
    "    # A12 = hcat(diagm(sinθ), diagm(cosθ))\n",
    "    A11 = hcat(diagm(cosθ), diagm(sinθ))\n",
    "    A12 = hcat(diagm(sinθ) .* -1.0, diagm(cosθ))\n",
    "    A1 = vcat(A11, A12)\n",
    "    A = A1 * A2\n",
    "    b = -1.0 * A * Z\n",
    "\n",
    "    Δr = traj_d.data[:, TRAJ_RIGHT_BOUND_X:TRAJ_RIGHT_BOUND_Y] - traj_d.data[:, TRAJ_X:TRAJ_Y]\n",
    "    Δl = traj_d.data[:, TRAJ_LEFT_BOUND_X:TRAJ_LEFT_BOUND_Y] - traj_d.data[:, TRAJ_X:TRAJ_Y]\n",
    "    min_bound = traj_d.data[:, TRAJ_LAT_ACC] .* -1.0 .* norm.(eachrow(Δr)) .+ 2.0\n",
    "    min_bound = vcat(min_bound, ones(eltype(min_bound), M) .* -1.0) - b\n",
    "    max_bound = traj_d.data[:, TRAJ_LON_ACC] .* norm.(eachrow(Δl)) .- 2.0\n",
    "    max_bound = vcat(max_bound, ones(eltype(max_bound), M) .* 1.0) - b\n",
    "\n",
    "    return A, min_bound, max_bound, B\n",
    "end"
   ]
  },
  {
   "cell_type": "code",
   "execution_count": 10,
   "metadata": {},
   "outputs": [
    {
     "name": "stdout",
     "output_type": "stream",
     "text": [
      "Iteration 1\n",
      "Solved in 0.003735065460205078 seconds\n"
     ]
    },
    {
     "name": "stdout",
     "output_type": "stream",
     "text": [
      "Iteration 2\n",
      "Solved in 0.003873109817504883 seconds\n"
     ]
    },
    {
     "name": "stdout",
     "output_type": "stream",
     "text": [
      "Iteration 3\n",
      "Solved in 0.0045719146728515625 seconds\n"
     ]
    },
    {
     "name": "stdout",
     "output_type": "stream",
     "text": [
      "Iteration 4\n",
      "Solved in 0.004517078399658203 seconds\n",
      "Discretizing trajectory: 20.0 %\n"
     ]
    },
    {
     "name": "stdout",
     "output_type": "stream",
     "text": [
      "Discretizing trajectory: 40.0 %\n"
     ]
    },
    {
     "name": "stdout",
     "output_type": "stream",
     "text": [
      "Discretizing trajectory: 60.0 %\n"
     ]
    },
    {
     "name": "stdout",
     "output_type": "stream",
     "text": [
      "Discretizing trajectory: 80.0 %\n"
     ]
    },
    {
     "name": "stdout",
     "output_type": "stream",
     "text": [
      "Discretizing trajectory: 100.0 %\n"
     ]
    },
    {
     "name": "stdout",
     "output_type": "stream",
     "text": [
      "\u001b[0m\u001b[1mTest Summary:        | \u001b[22m\u001b[32m\u001b[1mPass  \u001b[22m\u001b[39m\u001b[36m\u001b[1mTotal  \u001b[22m\u001b[39m\u001b[0m\u001b[1m Time\u001b[22m\n",
      "Minimum Curvature QP | \u001b[32m   2  \u001b[39m\u001b[36m    2  \u001b[39m\u001b[0m55.0s\n"
     ]
    },
    {
     "data": {
      "text/plain": [
       "Test.DefaultTestSet(\"Minimum Curvature QP\", Any[], 2, false, false, true, 1.694917530336437e9, 1.694917585287215e9, false)"
      ]
     },
     "metadata": {},
     "output_type": "display_data"
    }
   ],
   "source": [
    "@testset \"Minimum Curvature QP\" begin\n",
    "    interval = 5.0 # discretization interval\n",
    "    \n",
    "    x, y, z = load_raw_trajectory(\"examples/race_track/monza/MONZA_UNOPTIMIZED_LINE_enu.csv\")\n",
    "    traj_s = SplineTrajectory(x, y, 3)\n",
    "\n",
    "    x, y, z = load_raw_trajectory(\"examples/race_track/monza/MONZA_LEFT_BOUNDARY_enu.csv\")\n",
    "    left_s = SplineTrajectory(x, y, 3)\n",
    "\n",
    "    x, y, z = load_raw_trajectory(\"examples/race_track/monza/MONZA_RIGHT_BOUNDARY_enu.csv\")\n",
    "    right_s = SplineTrajectory(x, y, 3)\n",
    "\n",
    "    # x, y, z = load_raw_trajectory(\"examples/race_track/putnam/PUTNAM_A_CENTER_enu.csv\")\n",
    "    # traj_s = SplineTrajectory(x, y, 3)\n",
    "\n",
    "    # x, y, z = load_raw_trajectory(\"examples/race_track/putnam/PUTNAM_BOUND_A_LEFT_enu.csv\")\n",
    "    # left_s = SplineTrajectory(x, y, 3)\n",
    "\n",
    "    # x, y, z = load_raw_trajectory(\"examples/race_track/putnam/PUTNAM_BOUND_A_RIGHT_enu.csv\")\n",
    "    # right_s = SplineTrajectory(x, y, 3)\n",
    "    \n",
    "    traj_d, ts= discretize_trajectory(traj_s, interval, false)\n",
    "    left_d, _ = discretize_trajectory(left_s, 0.5)\n",
    "    right_d, _ = discretize_trajectory(right_s, 0.5)\n",
    "\n",
    "    set_trajectory_bounds(traj_d, left_d, right_d)\n",
    "\n",
    "    M = size(traj_d.data, 1)\n",
    "\n",
    "    coeffs_x = traj_s.spl_x.coefs\n",
    "    coeffs_y = traj_s.spl_y.coefs\n",
    "\n",
    "    # keep a copy of the original coefficients\n",
    "    coeffs_x_orig = copy(coeffs_x)\n",
    "    coeffs_y_orig = copy(coeffs_y)\n",
    "\n",
    "    N = length(coeffs_x)\n",
    "    Z = zeros(eltype(coeffs_x), N * 2)\n",
    "    Z[begin:N] .= coeffs_x\n",
    "    Z[N+1:end] .= coeffs_y\n",
    "\n",
    "    A, min_bound, max_bound, B = track_boundary_constraint(Z, traj_s, traj_d, ts)\n",
    "    q = zeros(eltype(coeffs_x), N * 2)\n",
    "\n",
    "    A2 = zeros(eltype(traj_d.data), 2 * M, 2 * N)\n",
    "    A2[begin:M, begin:N] = B\n",
    "    A2[M+1:end, N+1:end] = B\n",
    "\n",
    "    Z_optm = Z\n",
    "\n",
    "    for i=1:4\n",
    "        println(\"Iteration $i\")\n",
    "        # obtain and normalize H to norm of 1\n",
    "        H, g = min_curvature_cost(Z_optm, traj_s, ts)\n",
    "        # check if H is positive semi-definite\n",
    "        # @test eigvals(H) >= 0.0\n",
    "        H = H ./ norm(H)\n",
    "        g = g ./ norm(H)\n",
    "        m = OSQP.Model()\n",
    "        # @show H\n",
    "        # @show size(g)\n",
    "        # time to solve the QP\n",
    "        start = time()\n",
    "        OSQP.setup!(m; P=sparse(H), q=q, A=sparse(A), l=min_bound, u=max_bound, verbose=false)\n",
    "        OSQP.warm_start!(m; x=Z)\n",
    "        results = OSQP.solve!(m)\n",
    "        println(\"Solved in $(time() - start) seconds\")\n",
    "        # @show norm(results.x .- Z_optm)\n",
    "        Z_optm = results.x\n",
    "        traj_s.spl_x.coefs .= Z_optm[begin:N]\n",
    "        traj_s.spl_y.coefs .= Z_optm[N+1:end]\n",
    "\n",
    "        # if i == 2\n",
    "        #     break\n",
    "        # end\n",
    "\n",
    "        # prepare the next iteration\n",
    "        traj_d, ts = discretize_trajectory(traj_s, interval, false)\n",
    "        set_trajectory_bounds(traj_d, left_d, right_d)\n",
    "        M = size(traj_d.data, 1)\n",
    "        coeffs_x = traj_s.spl_x.coefs\n",
    "        coeffs_y = traj_s.spl_y.coefs\n",
    "        N = length(coeffs_x)\n",
    "        Z = zeros(eltype(coeffs_x), N * 2)\n",
    "        Z[begin:N] .= coeffs_x\n",
    "        Z[N+1:end] .= coeffs_y\n",
    "        A, min_bound, max_bound, B = track_boundary_constraint(Z, traj_s, traj_d, ts)\n",
    "        q = zeros(eltype(coeffs_x), N * 2)\n",
    "        A2 = zeros(eltype(traj_d.data), 2 * M, 2 * N)\n",
    "        A2[begin:M, begin:N] = B\n",
    "        A2[M+1:end, N+1:end] = B\n",
    "        # Z_optm = Z\n",
    "    end\n",
    "\n",
    "    plt.show()\n",
    "    traj_optm = A2 * Z_optm\n",
    "    plt.plot(traj_optm[1:M], traj_optm[M+1:end], \".\")\n",
    "    plt.plot(traj_d.data[:, TRAJ_LEFT_BOUND_X], traj_d.data[:, TRAJ_LEFT_BOUND_Y])\n",
    "    plt.plot(traj_d.data[:, TRAJ_RIGHT_BOUND_X], traj_d.data[:, TRAJ_RIGHT_BOUND_Y])\n",
    "    # plt.plot(traj_d.data[:, TRAJ_X], traj_d.data[:, TRAJ_Y])\n",
    "    plt.gca().set_aspect(\"equal\")\n",
    "    plt.show()\n",
    "\n",
    "    @test min_bound <= A * Z <= max_bound\n",
    "    @test min_bound <= A * Z_optm <= max_bound\n",
    "\n",
    "    # save the original coefficients to experiment_data/original_coeffs.csv\n",
    "    coeffs_orig = [coeffs_x_orig.data coeffs_y_orig.data]\n",
    "    writedlm(\"experiment_data/original_coeffs_monza.csv\", coeffs_orig, ',')\n",
    "    # save the optimized coefficients to experiment_data/optimized_coeffs.csv\n",
    "    coeffs_optm = [traj_s.spl_x.coefs.data traj_s.spl_y.coefs.data]\n",
    "    writedlm(\"experiment_data/optimized_coeffs_monza.csv\", coeffs_optm, ',')\n",
    "    # save the optimized discrete trajectory to experiment_data/optimized_trajectory.csv\n",
    "    traj_optm = [traj_optm[1:M] traj_optm[M+1:end]]\n",
    "    writedlm(\"experiment_data/optimized_trajectory_monza.csv\", traj_optm, ',')\n",
    "end"
   ]
  }
 ],
 "metadata": {
  "kernelspec": {
   "display_name": "Julia 1.9.3",
   "language": "julia",
   "name": "julia-1.9"
  },
  "language_info": {
   "file_extension": ".jl",
   "mimetype": "application/julia",
   "name": "julia",
   "version": "1.9.3"
  },
  "orig_nbformat": 4
 },
 "nbformat": 4,
 "nbformat_minor": 2
}
